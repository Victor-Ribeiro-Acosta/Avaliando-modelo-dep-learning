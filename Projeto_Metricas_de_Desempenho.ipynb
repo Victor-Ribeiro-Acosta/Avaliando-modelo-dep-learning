{
  "nbformat": 4,
  "nbformat_minor": 0,
  "metadata": {
    "colab": {
      "provenance": [],
      "authorship_tag": "ABX9TyOcBBTdgASIsp5Rbk0/Rbqn",
      "include_colab_link": true
    },
    "kernelspec": {
      "name": "python3",
      "display_name": "Python 3"
    },
    "language_info": {
      "name": "python"
    }
  },
  "cells": [
    {
      "cell_type": "markdown",
      "metadata": {
        "id": "view-in-github",
        "colab_type": "text"
      },
      "source": [
        "<a href=\"https://colab.research.google.com/github/Victor-Ribeiro-Acosta/Avaliando-modelo-dep-learning/blob/main/Projeto_Metricas_de_Desempenho.ipynb\" target=\"_parent\"><img src=\"https://colab.research.google.com/assets/colab-badge.svg\" alt=\"Open In Colab\"/></a>"
      ]
    },
    {
      "cell_type": "code",
      "execution_count": null,
      "metadata": {
        "id": "Ox5ifH8W8O0K"
      },
      "outputs": [],
      "source": [
        "!pip install -q tensorflow\n",
        "!pip install -q keras"
      ]
    },
    {
      "cell_type": "code",
      "source": [
        "import tensorflow as tf\n",
        "from tensorflow.keras import datasets, layers, models\n",
        "import matplotlib.pyplot as plt\n",
        "import pandas as pd\n",
        "import numpy as np\n",
        "import seaborn as sns"
      ],
      "metadata": {
        "id": "SnxVV6He8sfx"
      },
      "execution_count": null,
      "outputs": []
    },
    {
      "cell_type": "code",
      "source": [
        "tf.__version__"
      ],
      "metadata": {
        "colab": {
          "base_uri": "https://localhost:8080/",
          "height": 36
        },
        "id": "KfZP9Vum9ieq",
        "outputId": "d50300d0-a2eb-4515-bed8-73c0e14b22bd"
      },
      "execution_count": null,
      "outputs": [
        {
          "output_type": "execute_result",
          "data": {
            "text/plain": [
              "'2.15.0'"
            ],
            "application/vnd.google.colaboratory.intrinsic+json": {
              "type": "string"
            }
          },
          "metadata": {},
          "execution_count": 3
        }
      ]
    },
    {
      "cell_type": "code",
      "source": [
        "%load_ext tensorboard"
      ],
      "metadata": {
        "id": "zXkL1XVf92ZO"
      },
      "execution_count": null,
      "outputs": []
    },
    {
      "cell_type": "code",
      "source": [
        "logdir = 'log'"
      ],
      "metadata": {
        "id": "6_WhHreQ9-mo"
      },
      "execution_count": null,
      "outputs": []
    },
    {
      "cell_type": "code",
      "source": [
        "(imagens_treino, rotulos_trieno),(imagens_teste, rotulos_teste) = datasets.mnist.load_data()\n",
        "imagens_treino = imagens_treino.reshape(60000, 28, 28, 1)\n",
        "imagens_teste = imagens_teste.reshape(10000, 28, 28, 1)\n",
        "\n",
        "imagens_treino = imagens_treino / 255\n",
        "imagens_teste = imagens_teste / 255\n",
        "\n",
        "classes = [0,1,2,3,4,5,6,7,8,9]"
      ],
      "metadata": {
        "id": "zNKKdLhm-B9N",
        "colab": {
          "base_uri": "https://localhost:8080/"
        },
        "outputId": "3a2b627a-6fd3-4af2-97c6-987ed44cba2c"
      },
      "execution_count": null,
      "outputs": [
        {
          "output_type": "stream",
          "name": "stdout",
          "text": [
            "Downloading data from https://storage.googleapis.com/tensorflow/tf-keras-datasets/mnist.npz\n",
            "11490434/11490434 [==============================] - 0s 0us/step\n"
          ]
        }
      ]
    },
    {
      "cell_type": "code",
      "source": [
        "model = models.Sequential()\n",
        "model.add(layers.Conv2D(32, (3,3), activation = 'relu', input_shape = (28, 28, 1)))\n",
        "model.add(layers.MaxPool2D((2,2)))\n",
        "model.add(layers.Conv2D(64, (3,3), activation = 'relu'))\n",
        "model.add(layers.MaxPool2D((2,2)))\n",
        "model.add(layers.Conv2D(64, (3,3), activation = 'relu'))\n",
        "\n",
        "model.add(layers.Flatten())\n",
        "model.add(layers.Dense(10, activation = 'relu'))\n",
        "model.add(layers.Dense(10, activation = 'softmax'))"
      ],
      "metadata": {
        "id": "Hc04JkJV_CGg"
      },
      "execution_count": null,
      "outputs": []
    },
    {
      "cell_type": "code",
      "source": [
        "tensorborad_callback = tf.keras.callbacks.TensorBoard(logdir, histogram_freq=1)"
      ],
      "metadata": {
        "id": "maWc02ZfAoz1"
      },
      "execution_count": null,
      "outputs": []
    },
    {
      "cell_type": "code",
      "source": [
        "model.compile(optimizer='adam', loss = 'sparse_categorical_crossentropy', metrics = ['accuracy'])\n",
        "\n",
        "model.fit(\n",
        "    x = imagens_treino,\n",
        "    y = rotulos_trieno,\n",
        "    epochs = 5,\n",
        "    validation_data = (imagens_teste, rotulos_teste)\n",
        ")"
      ],
      "metadata": {
        "id": "aOHETT7pA7_9",
        "colab": {
          "base_uri": "https://localhost:8080/"
        },
        "outputId": "67296ad3-0cb2-4832-e230-e1c3bda916b7"
      },
      "execution_count": null,
      "outputs": [
        {
          "output_type": "stream",
          "name": "stdout",
          "text": [
            "Epoch 1/5\n",
            "1875/1875 [==============================] - 62s 32ms/step - loss: 0.2587 - accuracy: 0.9160 - val_loss: 0.0689 - val_accuracy: 0.9787\n",
            "Epoch 2/5\n",
            "1875/1875 [==============================] - 62s 33ms/step - loss: 0.0650 - accuracy: 0.9804 - val_loss: 0.0528 - val_accuracy: 0.9830\n",
            "Epoch 3/5\n",
            "1875/1875 [==============================] - 61s 33ms/step - loss: 0.0437 - accuracy: 0.9867 - val_loss: 0.0353 - val_accuracy: 0.9900\n",
            "Epoch 4/5\n",
            "1875/1875 [==============================] - 58s 31ms/step - loss: 0.0338 - accuracy: 0.9897 - val_loss: 0.0379 - val_accuracy: 0.9890\n",
            "Epoch 5/5\n",
            "1875/1875 [==============================] - 59s 31ms/step - loss: 0.0264 - accuracy: 0.9919 - val_loss: 0.0355 - val_accuracy: 0.9894\n"
          ]
        },
        {
          "output_type": "execute_result",
          "data": {
            "text/plain": [
              "<keras.src.callbacks.History at 0x7aa15522b7f0>"
            ]
          },
          "metadata": {},
          "execution_count": 8
        }
      ]
    },
    {
      "cell_type": "code",
      "source": [
        "valores_verdadeiros = rotulos_teste\n",
        "valores_previstos = model.predict(imagens_teste)\n",
        "valores_previstos = np.argmax(valores_previstos, axis=1)"
      ],
      "metadata": {
        "id": "RXzhU4PrB-EX",
        "colab": {
          "base_uri": "https://localhost:8080/"
        },
        "outputId": "4719acc1-f0d2-45fd-d44a-7fcdd609126f"
      },
      "execution_count": null,
      "outputs": [
        {
          "output_type": "stream",
          "name": "stdout",
          "text": [
            "313/313 [==============================] - 3s 9ms/step\n"
          ]
        }
      ]
    },
    {
      "cell_type": "code",
      "source": [
        "mat_conf = tf.math.confusion_matrix(labels=valores_verdadeiros, predictions = valores_previstos).numpy()\n",
        "mat_conf_norm = np.around(mat_conf.astype('float')/mat_conf.sum(axis=1)[:, np.newaxis], decimals=2)\n",
        "\n",
        "mat_conf_df = pd.DataFrame(mat_conf_norm, index = classes, columns = classes)\n",
        "\n",
        "figure = plt.figure(figsize=(8,8))\n",
        "sns.heatmap(mat_conf_df, annot=True, cmap=plt.cm.Blues)\n",
        "plt.tight_layout()\n",
        "plt.ylabel('Valores verdadeiros')\n",
        "plt.xlabel('Valores previstos')\n",
        "plt.show()"
      ],
      "metadata": {
        "id": "qe99Th5_CeKt",
        "colab": {
          "base_uri": "https://localhost:8080/",
          "height": 826
        },
        "outputId": "5f205cf3-0a86-450a-9da9-63232f0f1809"
      },
      "execution_count": null,
      "outputs": [
        {
          "output_type": "display_data",
          "data": {
            "text/plain": [
              "<Figure size 800x800 with 2 Axes>"
            ],
            "image/png": "[encoded data removed]"
          },
          "metadata": {}
        }
      ]
    },
    {
      "cell_type": "code",
      "source": [
        "VPs = []\n",
        "VNs = []\n",
        "FPs = []\n",
        "FNs = []\n",
        "\n",
        "for classe in range(10):\n",
        "  vp = mat_conf[classe, classe]\n",
        "  vn = np.sum(mat_conf) - np.sum(mat_conf[classe, :]) - np.sum(mat_conf[: , classe])\n",
        "  fp = np.sum(mat_conf[:, classe]) - vp\n",
        "  fn = np.sum(mat_conf[classe, :]) - vp\n",
        "\n",
        "  VPs.append(vp)\n",
        "  VNs.append(vn)\n",
        "  FPs.append(fp)\n",
        "  FNs.append(fn)"
      ],
      "metadata": {
        "id": "Kjz4N8cHXy3R"
      },
      "execution_count": null,
      "outputs": []
    },
    {
      "cell_type": "markdown",
      "source": [
        "# Calculando métricas de Desempenho"
      ],
      "metadata": {
        "id": "sWzty04w1FK1"
      }
    },
    {
      "cell_type": "markdown",
      "source": [
        "## Sensibilidade"
      ],
      "metadata": {
        "id": "_VQChfXJ1L9P"
      }
    },
    {
      "cell_type": "code",
      "source": [
        "sensibilidade = sum(VPs) / (sum(VPs) + sum(FNs))\n",
        "print('O valor de sensibilidade é de: ', sensibilidade)"
      ],
      "metadata": {
        "colab": {
          "base_uri": "https://localhost:8080/"
        },
        "id": "bRxirrp01Bx_",
        "outputId": "38d1f4da-a664-4de7-f0e0-8373e3516512"
      },
      "execution_count": null,
      "outputs": [
        {
          "output_type": "stream",
          "name": "stdout",
          "text": [
            "O valor de sensibilidade é de:  0.9894\n"
          ]
        }
      ]
    },
    {
      "cell_type": "markdown",
      "source": [
        "###Acurácia"
      ],
      "metadata": {
        "id": "8d9mVsm81epu"
      }
    },
    {
      "cell_type": "code",
      "source": [
        "acuracia = (sum(VPs) + sum(VNs))/(sum(VPs) + sum(VNs) + sum(FPs) + sum(FNs))\n",
        "print('A acurácia é de: ', acuracia)"
      ],
      "metadata": {
        "colab": {
          "base_uri": "https://localhost:8080/"
        },
        "id": "LNVgIF011df0",
        "outputId": "e85c30fb-814a-452c-b609-5c44a47d24a8"
      },
      "execution_count": null,
      "outputs": [
        {
          "output_type": "stream",
          "name": "stdout",
          "text": [
            "A acurácia é de:  0.9976472155017424\n"
          ]
        }
      ]
    },
    {
      "cell_type": "markdown",
      "source": [
        "###F-Score"
      ],
      "metadata": {
        "id": "YoB2IDp_15aT"
      }
    },
    {
      "cell_type": "code",
      "source": [
        "precisao = sum(VPs) / (sum(VPs) + sum(FPs))\n",
        "fscore = 2*(precisao * sensibilidade) / (precisao + sensibilidade)\n",
        "print('O f-score calculado é de ', fscore)"
      ],
      "metadata": {
        "colab": {
          "base_uri": "https://localhost:8080/"
        },
        "id": "6X6GTXnW130F",
        "outputId": "cde98012-3fae-4c14-9d71-869b6063a519"
      },
      "execution_count": null,
      "outputs": [
        {
          "output_type": "stream",
          "name": "stdout",
          "text": [
            "O f-score calculado é de  0.9894\n"
          ]
        }
      ]
    },
    {
      "cell_type": "markdown",
      "source": [
        "Curva de ROC"
      ],
      "metadata": {
        "id": "NDecQ-mxBbW4"
      }
    },
    {
      "cell_type": "code",
      "source": [
        "# Calcular TPR e FPR\n",
        "TPR = sensibilidade\n",
        "FPR = sum(FPs) / (sum(FPs) + sum(VNs))\n",
        "\n",
        "# Plotar ponto na curva ROC\n",
        "plt.figure()\n",
        "plt.plot(FPR, TPR, marker='o', color='r', label='Ponto na curva ROC')\n",
        "#plt.plot([0, 1], [0, 1], color='navy', linestyle='--')\n",
        "plt.xlabel('Taxa de Falsos Positivos (FPR)')\n",
        "plt.ylabel('Taxa de Verdadeiros Positivos (TPR)')\n",
        "plt.title('Curva ROC')\n",
        "plt.legend(loc='lower right')\n",
        "plt.show()"
      ],
      "metadata": {
        "id": "T09WiFmmBc3x"
      },
      "execution_count": null,
      "outputs": []
    },
    {
      "cell_type": "code",
      "source": [
        "dataset = {}\n",
        "TPR_list = []\n",
        "FPR_list = []\n",
        "\n",
        "for indice in range(10):\n",
        "\n",
        "  TPR = VPs[indice] / (VPs[indice] + FNs[indice])\n",
        "  FPR = FPs[indice] / (FPs[indice] + VNs[indice])\n",
        "\n",
        "  TPR_list.append(TPR)\n",
        "  FPR_list.append(FPR)\n",
        "\n",
        "dataset['TPR'] = TPR_list\n",
        "dataset['FPR'] = FPR_list\n",
        "\n",
        "df = pd.DataFrame(dataset)\n",
        "\n",
        "# Plotar ponto na curva ROC\n",
        "plt.figure()\n",
        "plt.plot(df['TPR'], df['FPR'], marker = 'o', color='r', label='Ponto na curva ROC')\n",
        "#plt.plot([0, 1], [0, 1], color='navy', linestyle='--')\n",
        "plt.xlabel('Taxa de Verdadeiros Positivos (FPR)')\n",
        "plt.ylabel('Taxa de Falsos Positivos (TPR)')\n",
        "plt.title('Curva ROC')\n",
        "plt.legend(loc='lower right')\n",
        "plt.show()"
      ],
      "metadata": {
        "id": "SeE2lNIeGbsv"
      },
      "execution_count": null,
      "outputs": []
    }
  ]
}